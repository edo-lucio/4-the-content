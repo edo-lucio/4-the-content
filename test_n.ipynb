{
 "cells": [
  {
   "cell_type": "code",
   "execution_count": null,
   "metadata": {},
   "outputs": [
    {
     "name": "stdout",
     "output_type": "stream",
     "text": [
      "ImagesResponse(created=None, data=[Image(b64_json=None, revised_prompt=None, url='https://pictures-storage.storage.eu-north1.nebius.cloud/text2img-416c6527-90e5-417b-a418-8171741c4fbf_00001_.webp')], id='text2img-416c6527-90e5-417b-a418-8171741c4fbf')\n"
     ]
    }
   ],
   "source": [
    "import os\n",
    "from openai import OpenAI\n",
    "\n",
    "from dotenv import load_dotenv\n",
    "load_dotenv()\n",
    "\n",
    "client = OpenAI(\n",
    "    base_url=\"https://api.studio.nebius.com/v1/\",\n",
    "    api_key=os.environ.get(\"NEBIUS_API_KEY\"),\n",
    ")\n",
    "\n",
    "client.models.list() \n",
    "\n",
    "response = client.images.generate(\n",
    "    model=\"black-forest-labs/flux-dev\",\n",
    "    prompt=\"An elephant in a desert\",\n",
    "    response_format=\"url\",\n",
    "    extra_body={\n",
    "        \"response_extension\": \"webp\",\n",
    "        \"width\": 512,\n",
    "        \"height\": 512,\n",
    "        \"num_inference_steps\": 30,\n",
    "        \"seed\": -1,\n",
    "        \"negative_prompt\": \"Giraffes, night sky\"\n",
    "    }\n",
    ")\n",
    "\n",
    "print(response)"
   ]
  },
  {
   "cell_type": "code",
   "execution_count": null,
   "metadata": {},
   "outputs": [
    {
     "data": {
      "text/plain": [
       "'https://pictures-storage.storage.eu-north1.nebius.cloud/text2img-239057fa-63fb-4752-af2a-c0585ec8c4dc_00001_.webp'"
      ]
     },
     "execution_count": 4,
     "metadata": {},
     "output_type": "execute_result"
    }
   ],
   "source": [
    "response.data[0].url"
   ]
  },
  {
   "cell_type": "code",
   "execution_count": null,
   "metadata": {},
   "outputs": [
    {
     "name": "stdout",
     "output_type": "stream",
     "text": [
      "Image downloaded successfully: downloaded_image_flux.jpg\n"
     ]
    }
   ],
   "source": [
    "import requests\n",
    "\n",
    "save_path = \"downloaded_image_flux.jpg\"\n",
    "download_image(response.data[0].url, save_path)"
   ]
  }
 ],
 "metadata": {
  "kernelspec": {
   "display_name": "writer",
   "language": "python",
   "name": "python3"
  },
  "language_info": {
   "codemirror_mode": {
    "name": "ipython",
    "version": 3
   },
   "file_extension": ".py",
   "mimetype": "text/x-python",
   "name": "python",
   "nbconvert_exporter": "python",
   "pygments_lexer": "ipython3",
   "version": "3.10.16"
  }
 },
 "nbformat": 4,
 "nbformat_minor": 2
}
